{
 "cells": [
  {
   "cell_type": "markdown",
   "id": "9e19e3f1-1392-46b9-931a-0d6929c17524",
   "metadata": {},
   "source": [
    "1. In Python, what is the difference between a built-in function and a user-defined function? Provide an\n",
    "example of each.\n",
    "\n",
    "ANSWER\n",
    "\n",
    "If you define the function yourself, it is a user-defined function. On the other hand, the Python function that come along with Python are known as in-built functions. All the functions apart from in-built functions and library functions come under the category of user-defined functions."
   ]
  },
  {
   "cell_type": "code",
   "execution_count": 4,
   "id": "08785ff8-14e6-4479-ae04-f67fae51d2fb",
   "metadata": {},
   "outputs": [
    {
     "name": "stdout",
     "output_type": "stream",
     "text": [
      "15\n"
     ]
    }
   ],
   "source": [
    "#FOR EXAMPLE (BUILT IN FUNCTION)\n",
    "a = 10 \n",
    "b = 5\n",
    "print(a+b)"
   ]
  },
  {
   "cell_type": "code",
   "execution_count": 5,
   "id": "4c49bcc9-69e1-4b01-9205-90c8b74e4ee4",
   "metadata": {},
   "outputs": [
    {
     "name": "stdout",
     "output_type": "stream",
     "text": [
      "Hello, this is my first function\n"
     ]
    }
   ],
   "source": [
    "# FOR EXAMPLE USER DEFIEND FUNCTION\n",
    "def introduction():\n",
    "  print(\"Hello, this is my first function\")\n",
    "\n",
    "# Call function\n",
    "introduction()"
   ]
  },
  {
   "cell_type": "markdown",
   "id": "5da4bbf4-73ab-4811-a52c-7edc8c799a53",
   "metadata": {},
   "source": [
    "2. How can you pass arguments to a function in Python? Explain the difference between positional\n",
    "arguments and keyword arguments.\n",
    "\n",
    "ANSWER\n",
    "\n",
    "Information can be passed into functions as arguments. Arguments are specified after the function name, inside the parentheses. You can add as many arguments as you want, just separate them with a comma."
   ]
  },
  {
   "cell_type": "markdown",
   "id": "35c7dd87-b613-4093-a843-893160336155",
   "metadata": {},
   "source": [
    "A positional argument is a name that is not followed by an equal sign (=) and default value.\n",
    "\n",
    "A keyword argument is followed by an equal sign and an expression that gives its default value."
   ]
  },
  {
   "cell_type": "code",
   "execution_count": 6,
   "id": "294c72a7-1681-4719-9ee1-af53aaa20397",
   "metadata": {},
   "outputs": [
    {
     "name": "stdout",
     "output_type": "stream",
     "text": [
      "Case-1:\n",
      "Hi, I am Prince\n",
      "My age is  20\n",
      "\n",
      "Case-2:\n",
      "Hi, I am 20\n",
      "My age is  Prince\n"
     ]
    }
   ],
   "source": [
    "#FOR EXAMPLE POSITION ARGUMENT\n",
    "def nameAge(name, age):\n",
    "    print(\"Hi, I am\", name)\n",
    "    print(\"My age is \", age)\n",
    " \n",
    "# You will get correct output because argument is given in order\n",
    "print(\"Case-1:\")\n",
    "nameAge(\"Prince\", 20)\n",
    "# You will get incorrect output because argument is not in order\n",
    "print(\"\\nCase-2:\")\n",
    "nameAge(20, \"Prince\")"
   ]
  },
  {
   "cell_type": "code",
   "execution_count": 7,
   "id": "8a3d21cc-9428-4c6b-9139-3528100a65d8",
   "metadata": {},
   "outputs": [
    {
     "name": "stdout",
     "output_type": "stream",
     "text": [
      "Hi, I am Prince\n",
      "My age is  20\n",
      "Hi, I am Prince\n",
      "My age is  20\n"
     ]
    }
   ],
   "source": [
    "#FOR EXAMPLE KEYWORD ARGUMENT\n",
    "def nameAge(name, age):\n",
    "    print(\"Hi, I am\", name)\n",
    "    print(\"My age is \", age)\n",
    " \n",
    "nameAge(name=\"Prince\", age=20)\n",
    " \n",
    "nameAge(age=20, name=\"Prince\")"
   ]
  },
  {
   "cell_type": "markdown",
   "id": "0d4b0cf6-d86b-4c1c-b2e6-89bd57668b3c",
   "metadata": {},
   "source": [
    "3. What is the purpose of the return statement in a function? Can a function have multiple return\n",
    "statements? Explain with an example.\n",
    "\n",
    "ANSWER\n",
    "A return statement ends the processing of the current function and returns control to the caller of the function.A function can have more than one return statement, but only ever run one based on a condition."
   ]
  },
  {
   "cell_type": "code",
   "execution_count": null,
   "id": "af703d84-6934-4373-839d-96dfc9aa3018",
   "metadata": {},
   "outputs": [],
   "source": [
    "#FOR RXAMPLE\n",
    "def check_even_odd(num):\n",
    "    if num % 2 == 0:\n",
    "        return \"Even\"\n",
    "    else:\n",
    "        return \"Odd\""
   ]
  },
  {
   "cell_type": "code",
   "execution_count": null,
   "id": "6817b438-58b8-49e4-9d31-bc72a5e4a373",
   "metadata": {},
   "outputs": [],
   "source": [
    " check_even_odd(5)\n"
   ]
  },
  {
   "cell_type": "markdown",
   "id": "751c4350-b888-46f9-9a88-d869b98f057e",
   "metadata": {},
   "source": [
    "4. What are lambda functions in Python? How are they different from regular functions? Provide an\n",
    "example where a lambda function can be useful.\n",
    "\n",
    "ANSWER\n",
    "\n",
    "Lambda functions are small, anonymous functions defined with the lambda keyword.\n",
    "They can take any number of arguments but can only have one expression.\n",
    "The expression is evaluated and returned when the function is called.\n",
    "Lambda functions do not require a return statement, the expression is implicitly returned.\n",
    "They can be used wherever function objects are required, like inside functions like map(), filter(), and reduce().\n",
    "You can't include statements like loops, if, or else in lambda functions; only expressions are allowed.\n",
    "Lambda functions are useful for small tasks that are not reused throughout your code.\n",
    "They can be assigned to variables and used like regular functions."
   ]
  },
  {
   "cell_type": "code",
   "execution_count": null,
   "id": "80e1724a-0a59-4868-8a52-48e9ac52fc66",
   "metadata": {},
   "outputs": [],
   "source": [
    "#FOR EXAMPLE\n",
    "\n",
    "add = lambda x, y: x + y\n",
    "print(add(5, 3))  # Output: 8"
   ]
  },
  {
   "cell_type": "markdown",
   "id": "37f65fac-1e61-4b6d-bb86-c116f64f31f7",
   "metadata": {},
   "source": [
    "5. How does the concept of \"scope\" apply to functions in Python? Explain the difference between local\n",
    "scope and global scope.\n",
    "\n",
    "ANSWER\n",
    "Local (or function) scope is the code block or body of any Python function or lambda expression. This Python scope contains the names that you define inside the function. These names will only be visible from the code of the function.\n",
    "\n",
    "There are some key Difference Between Local and Global Variable in Python: Global variables are declared outside the functions whereas local variables are declared within the functions. Local variables are created when the function starts its execution and are lost when the function ends."
   ]
  },
  {
   "cell_type": "code",
   "execution_count": 21,
   "id": "97a9a3ae-8c15-4f4d-a6df-b487a1d82cf7",
   "metadata": {},
   "outputs": [
    {
     "name": "stdout",
     "output_type": "stream",
     "text": [
      "Hey Welcome pritate king!\n",
      "Hey LUFFY!\n"
     ]
    }
   ],
   "source": [
    "# GLOBAL SCOPE\n",
    "message = \"Hey\"\n",
    "def python_developer():\n",
    "    developer = \"Welcome pritate king!\"\n",
    "    print(message, developer)\n",
    "def developer_name(name):\n",
    "    print(message, name)\n",
    "python_developer()\n",
    "developer_name(\"LUFFY!\")\n"
   ]
  },
  {
   "cell_type": "code",
   "execution_count": 22,
   "id": "de1691b5-b078-40eb-8840-590fc94e558a",
   "metadata": {},
   "outputs": [
    {
     "name": "stdout",
     "output_type": "stream",
     "text": [
      "The value defined is:  1\n"
     ]
    }
   ],
   "source": [
    "def test():\n",
    "    value = 1\n",
    "    # Print statement 1\n",
    "    print(\"The value defined is: \", value)\n",
    "test()"
   ]
  },
  {
   "cell_type": "markdown",
   "id": "4d36f565-7449-4c0f-a72f-787ffc689cb5",
   "metadata": {},
   "source": [
    "6. How can you use the \"return\" statement in a Python function to return multiple values?\n",
    "\n",
    "ANSWER\n",
    "\n",
    "In this method, we use Python to return multiple values by simply separating them by commas. Python basically uses a tuple to achieve this."
   ]
  },
  {
   "cell_type": "code",
   "execution_count": 23,
   "id": "8c97de18-51f8-4008-9de9-f6e67f530386",
   "metadata": {},
   "outputs": [
    {
     "name": "stdout",
     "output_type": "stream",
     "text": [
      "1\n",
      "2\n",
      "3\n"
     ]
    }
   ],
   "source": [
    "def myfun():\n",
    "    return 1, 2, 3\n",
    "a, b, c = myfun()\n",
    "print(a)\n",
    "print(b)\n",
    "print(c)"
   ]
  },
  {
   "cell_type": "markdown",
   "id": "f7abefb1-52e4-407b-8cb9-19e39ec853c7",
   "metadata": {},
   "source": [
    "7. What is the difference between the \"pass by value\" and \"pass by reference\" concepts when it\n",
    "comes to function arguments in Python?\n",
    "\n",
    "ANSWER\n",
    "\n",
    "When you give function parameters via reference, you're just passing references to values that already exist. When you pass arguments by value, on the other hand, the arguments become independent copies of the original values."
   ]
  },
  {
   "cell_type": "code",
   "execution_count": 24,
   "id": "17b493c9-eb5d-475a-81d0-a19094810392",
   "metadata": {},
   "outputs": [
    {
     "name": "stdout",
     "output_type": "stream",
     "text": [
      "Before function call  100\n",
      "Inside function call  200\n",
      "After function call  100\n"
     ]
    }
   ],
   "source": [
    "def function(int):\n",
    "  int+=100\n",
    "  print(\"Inside function call \",int)\n",
    "\n",
    "int=100\n",
    "print(\"Before function call \",int)\n",
    "function(int)\n",
    "print(\"After function call \",int)"
   ]
  },
  {
   "cell_type": "markdown",
   "id": "3d000722-ac02-48af-b53c-18579e5b3f00",
   "metadata": {},
   "source": [
    "8. Create a function that can intake integer or decimal value and do following operations:\n",
    "a. Logarithmic function (log x)\n",
    "b. Exponential function (exp(x))\n",
    "c. Power function with base 2 (2x)\n",
    "d. Square root\n",
    "\n",
    "ANSWER"
   ]
  },
  {
   "cell_type": "code",
   "execution_count": 1,
   "id": "1a06cb63-4645-4043-bf1d-ce9e886c602e",
   "metadata": {},
   "outputs": [
    {
     "name": "stdin",
     "output_type": "stream",
     "text": [
      "Enter first number:  2\n",
      "Enter first number:  2\n"
     ]
    },
    {
     "name": "stdout",
     "output_type": "stream",
     "text": [
      "Logarithm of x: 0.6931471805599453\n",
      "Exponential of x: 7.38905609893065\n",
      "x raised to the power of y: 4.0\n",
      "Square root of x: 1.4142135623730951\n"
     ]
    }
   ],
   "source": [
    "import math\n",
    "def mun():\n",
    "    x =  int(input(\"Enter first number: \"))\n",
    "    y =  int(input(\"Enter first number: \"))\n",
    "\n",
    "    log_result = math.log(x)\n",
    "    exp_result = math.exp(x)\n",
    "    pow_result = math.pow(x , y)\n",
    "    sqrt_result = math.sqrt(x)\n",
    "    \n",
    "    print(\"Logarithm of x:\", log_result)\n",
    "    print(\"Exponential of x:\", exp_result)\n",
    "    print(\"x raised to the power of y:\", pow_result)\n",
    "    print(\"Square root of x:\", sqrt_result)\n",
    "\n",
    "\n",
    "mun()"
   ]
  },
  {
   "cell_type": "markdown",
   "id": "6480460e-83b2-41e9-afc1-04149b77f379",
   "metadata": {},
   "source": [
    "9. Create a function that takes a full name as an argument and returns first name and last name.\n",
    "\n",
    "ANSWER\n"
   ]
  },
  {
   "cell_type": "code",
   "execution_count": 2,
   "id": "0cefa09e-767d-4ff3-8997-8a4b1a1d8a87",
   "metadata": {},
   "outputs": [],
   "source": [
    "def test(full_name):\n",
    "    names = full_name.split()\n",
    "    first_name = names[0]\n",
    "    last_name = names[-1]\n",
    "    print(f\"The first name of the person is {names[0]} and last name of the person is {names[-1]}\")\n"
   ]
  },
  {
   "cell_type": "code",
   "execution_count": 3,
   "id": "23931ef6-b8de-4034-99b7-49c9a5d7b27d",
   "metadata": {},
   "outputs": [
    {
     "name": "stdout",
     "output_type": "stream",
     "text": [
      "The first name of the person is Rahul and last name of the person is yadav\n"
     ]
    }
   ],
   "source": [
    "test(\"Rahul yadav\")"
   ]
  },
  {
   "cell_type": "code",
   "execution_count": null,
   "id": "6fb3c173-8707-4673-a206-d1d79507e5d4",
   "metadata": {},
   "outputs": [],
   "source": []
  },
  {
   "cell_type": "code",
   "execution_count": null,
   "id": "e7441adf-b979-4560-9948-5cbbb3a6ed5d",
   "metadata": {},
   "outputs": [],
   "source": []
  }
 ],
 "metadata": {
  "kernelspec": {
   "display_name": "Python 3 (ipykernel)",
   "language": "python",
   "name": "python3"
  },
  "language_info": {
   "codemirror_mode": {
    "name": "ipython",
    "version": 3
   },
   "file_extension": ".py",
   "mimetype": "text/x-python",
   "name": "python",
   "nbconvert_exporter": "python",
   "pygments_lexer": "ipython3",
   "version": "3.10.6"
  }
 },
 "nbformat": 4,
 "nbformat_minor": 5
}
